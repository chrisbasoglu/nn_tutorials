{
 "cells": [
  {
   "cell_type": "code",
   "execution_count": 32,
   "id": "c07723e3",
   "metadata": {},
   "outputs": [],
   "source": [
    "import torch\n",
    "import matplotlib.pyplot as plt\n",
    "from IPython.display import Image\n",
    "%matplotlib inline"
   ]
  },
  {
   "cell_type": "code",
   "execution_count": 33,
   "id": "71c5b2e4",
   "metadata": {},
   "outputs": [
    {
     "data": {
      "text/html": [
       "<img src=\"nn-lm-1.png\" width=\"1100\"/>"
      ],
      "text/plain": [
       "<IPython.core.display.Image object>"
      ]
     },
     "execution_count": 33,
     "metadata": {},
     "output_type": "execute_result"
    }
   ],
   "source": [
    "# In our last example, we modeld a NN, that took in one character (out of 27 posibile characters) to predict what the probabilyt was for\n",
    "# next character to be one of the 27 possiblebites.  To do this, we took the input character, an index from 0 to 26, mapped it to a one \n",
    "# hot, and used that as the vector into the network.  \n",
    "Image(url=\"nn-lm-1.png\", width=1100)"
   ]
  },
  {
   "cell_type": "code",
   "execution_count": 34,
   "id": "9a529b15",
   "metadata": {},
   "outputs": [
    {
     "data": {
      "text/html": [
       "<img src=\"nn-lm-2.png\" width=\"750\"/>"
      ],
      "text/plain": [
       "<IPython.core.display.Image object>"
      ]
     },
     "execution_count": 34,
     "metadata": {},
     "output_type": "execute_result"
    }
   ],
   "source": [
    "# We simplifed this to 1 layer as below.\n",
    "Image(url=\"nn-lm-2.png\", width=750)\n"
   ]
  },
  {
   "cell_type": "code",
   "execution_count": 35,
   "id": "8bae700b",
   "metadata": {},
   "outputs": [
    {
     "data": {
      "text/html": [
       "<img src=\"nn-lm-3.png\" width=\"1100\"/>"
      ],
      "text/plain": [
       "<IPython.core.display.Image object>"
      ]
     },
     "execution_count": 35,
     "metadata": {},
     "output_type": "execute_result"
    }
   ],
   "source": [
    "# Now if we want to predict the next output from 3 past inputs instead of one, we get the following\n",
    "Image(url=\"nn-lm-3.png\", width=1100)"
   ]
  },
  {
   "cell_type": "code",
   "execution_count": 36,
   "id": "1d53454c",
   "metadata": {},
   "outputs": [
    {
     "data": {
      "text/html": [
       "<img src=\"nn-lm-4.png\" width=\"1100\"/>"
      ],
      "text/plain": [
       "<IPython.core.display.Image object>"
      ]
     },
     "execution_count": 36,
     "metadata": {},
     "output_type": "execute_result"
    }
   ],
   "source": [
    "# Note that the input is the conatactintion of the 3 past inputs.  With one-hot encoding each input was a 1x27 vector.  Now with 3 inputs, \n",
    "# conactenate theim and get a 1x82 vector.  That makes the first hidden layer quite large.  Also with 3 past vaulyes the combinatoral poisbilitys \n",
    "# are 27x27x27. Gettting probabilitys for each 27x27x27 possibiilty wil be difficult, as there are so many indivial possibilityes, the probabilyt \n",
    "# of any one particulr combo is going to be low.\n",
    "\n",
    "# So instead we add an embedding layer.  the Embnedong layer is just a matirix, whose weights get trainged along with all the other wietts, and \n",
    "# we multiply the high dimnetsial input vectors by the emdeding matrix to map them into lower dimensions.  So a 1x27 one-hot vector when mutliplied\n",
    "# by a 27x3 embedding matrix will map each 1x27 vector (27 dimensions) into a 1x3 vector (3 dimensoins).   Because the wigths of this matrix \n",
    "# get trained to help minimize the loss functions, the eventaul values of the wieghts of the emdiingin matrix end up having meaning in the \n",
    "# problem space we are trying to solve.  For example, since we are mapping to lower diminssine, and tranpsoition of voweks in a name is fine for\n",
    "# new name in terms of loss function, the transofrm provided my the matrix multiplcation that maps to lower dimension, would work out to make differnt \n",
    "# vowles, each a very diffent input one-hot vector map to the same or similar emdedded lower dimensial vector since voels are interchangeble in a \n",
    "# radimly constructed name.\n",
    "\n",
    "# For 3 inputs, we one-hot each input, pass them through the embeeding matrix (vect*matrix) and take the reduced dimson resutls and conate them into\n",
    "# a now smaller input to the rest of the netowrk.  See below.\n",
    "Image(url=\"nn-lm-4.png\", width=1100)"
   ]
  },
  {
   "cell_type": "code",
   "execution_count": 37,
   "id": "aa3fed82",
   "metadata": {},
   "outputs": [],
   "source": [
    "# Note that the vector*matrix multiplication is differentable (as all multipcation and add is) so we can do backprop to minimize the\n",
    "# the wieghts just fine.  Also note that since the input vectros to the vect*matrix are one-hots, matrix multiply with one hot vectors \n",
    "# is just the same as selcting the row of the matix that corresponds to the index used to create the one hot vector.  So if index 3 was\n",
    "# used to create one hot vector of v=[0, 0, 0, 1, 0, 0, ..., 0] and if we have emedding marix m as a 27x3 matrix, then v*m is just \n",
    "# the 3rd row of matirx m, or m[3]."
   ]
  },
  {
   "cell_type": "code",
   "execution_count": 44,
   "id": "c3be90d8",
   "metadata": {},
   "outputs": [
    {
     "data": {
      "text/html": [
       "<img src=\"bengio.png\" width=\"700\"/>"
      ],
      "text/plain": [
       "<IPython.core.display.Image object>"
      ]
     },
     "execution_count": 44,
     "metadata": {},
     "output_type": "execute_result"
    }
   ],
   "source": [
    "# We will implemt a network from a paper by Bengio.  It is exactly same as the netowrk we propsed above, it \n",
    "# just has only one hidden layer instead of two.  See below. \n",
    "Image(url=\"bengio.png\", width=700)"
   ]
  },
  {
   "cell_type": "code",
   "execution_count": 39,
   "id": "2eba76f7",
   "metadata": {},
   "outputs": [],
   "source": [
    "# read in all the words\n",
    "words = open('names.txt', 'r').read().splitlines()\n"
   ]
  },
  {
   "cell_type": "code",
   "execution_count": 40,
   "id": "3db267a4",
   "metadata": {},
   "outputs": [
    {
     "data": {
      "text/plain": [
       "['emma', 'olivia', 'ava', 'isabella', 'sophia', 'charlotte', 'mia', 'amelia']"
      ]
     },
     "execution_count": 40,
     "metadata": {},
     "output_type": "execute_result"
    }
   ],
   "source": [
    "words[:8]"
   ]
  },
  {
   "cell_type": "code",
   "execution_count": 41,
   "id": "3badb039",
   "metadata": {},
   "outputs": [
    {
     "data": {
      "text/plain": [
       "32033"
      ]
     },
     "execution_count": 41,
     "metadata": {},
     "output_type": "execute_result"
    }
   ],
   "source": [
    "len(words)"
   ]
  },
  {
   "cell_type": "code",
   "execution_count": 42,
   "id": "488187be",
   "metadata": {},
   "outputs": [
    {
     "name": "stdout",
     "output_type": "stream",
     "text": [
      "{1: 'a', 2: 'b', 3: 'c', 4: 'd', 5: 'e', 6: 'f', 7: 'g', 8: 'h', 9: 'i', 10: 'j', 11: 'k', 12: 'l', 13: 'm', 14: 'n', 15: 'o', 16: 'p', 17: 'q', 18: 'r', 19: 's', 20: 't', 21: 'u', 22: 'v', 23: 'w', 24: 'x', 25: 'y', 26: 'z', 0: '.'}\n"
     ]
    }
   ],
   "source": [
    "# build the vocabulary of characters and mappings to/from integers\n",
    "chars = sorted(list(set(''.join(words))))\n",
    "stoi = {s:i+1 for i,s in enumerate(chars)}\n",
    "stoi['.'] = 0\n",
    "itos = {i:s for s,i in stoi.items()}\n",
    "print(itos)"
   ]
  },
  {
   "cell_type": "code",
   "execution_count": 43,
   "id": "5ae6ba45",
   "metadata": {},
   "outputs": [
    {
     "data": {
      "text/plain": [
       "tensor([[ 0.5481],\n",
       "        [-1.2230],\n",
       "        [ 1.5021]])"
      ]
     },
     "execution_count": 43,
     "metadata": {},
     "output_type": "execute_result"
    }
   ],
   "source": [
    "# build the dataset\n",
    "X = []\n",
    "Y = []\n",
    "block_size = 3 # context length: how many characters do we take to predict the next one?\n",
    "\n",
    "for w in words:\n",
    "  \n",
    "  #print(w)\n",
    "  context = [0] * block_size\n",
    "  for ch in w + '.':\n",
    "    ix = stoi[ch]\n",
    "    X.append(context)\n",
    "    Y.append(ix)\n",
    "    #print(''.join(itos[i] for i in context), '--->', itos[ix])\n",
    "    context = context[1:] + [ix] # crop and append\n",
    "  \n",
    "X = torch.tensor(X)\n",
    "Y = torch.tensor(Y)\n",
    "X.shape, X.dtype, Y.shape, Y.dtype\n",
    "\n",
    "W = torch.randn(3, 1)\n",
    "W"
   ]
  }
 ],
 "metadata": {
  "kernelspec": {
   "display_name": "Python 3",
   "language": "python",
   "name": "python3"
  },
  "language_info": {
   "codemirror_mode": {
    "name": "ipython",
    "version": 3
   },
   "file_extension": ".py",
   "mimetype": "text/x-python",
   "name": "python",
   "nbconvert_exporter": "python",
   "pygments_lexer": "ipython3",
   "version": "3.10.4"
  },
  "vscode": {
   "interpreter": {
    "hash": "e0d8714401c84b2f34c97cdbc2dc9b27c772eb6be171c58b92b0887b6275033e"
   }
  }
 },
 "nbformat": 4,
 "nbformat_minor": 5
}
