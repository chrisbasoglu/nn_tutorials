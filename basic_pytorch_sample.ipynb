{
 "cells": [
  {
   "cell_type": "code",
   "execution_count": 1,
   "id": "87816605",
   "metadata": {},
   "outputs": [],
   "source": [
    "import torch\n",
    "import math\n",
    "import numpy as np\n",
    "import matplotlib.pyplot as plt\n",
    "from IPython.display import Image\n",
    "import torch.nn.functional as F  # Parameterless functions, like (some) activation functions\n",
    "import torchvision.datasets as datasets  # Standard datasets\n",
    "import torchvision.transforms as transforms  # Transformations we can perform on our dataset for augmentation\n",
    "from torch import optim  # For optimizers like SGD, Adam, etc.\n",
    "from torch import nn  # All neural network modules\n",
    "from torch.utils.data import (\n",
    "    DataLoader,\n",
    ")  # Gives easier dataset management by creating mini batches etc.\n",
    "from tqdm import tqdm  # For nice progress bar!\n",
    "%matplotlib inline"
   ]
  },
  {
   "cell_type": "code",
   "execution_count": 2,
   "id": "e30421a0",
   "metadata": {},
   "outputs": [
    {
     "name": "stdout",
     "output_type": "stream",
     "text": [
      "Device used to run is: cuda\n",
      "\n",
      "Data Loading:\n",
      "-------------\n",
      "\n",
      "Downloading http://yann.lecun.com/exdb/mnist/train-images-idx3-ubyte.gz\n",
      "Downloading http://yann.lecun.com/exdb/mnist/train-images-idx3-ubyte.gz to dataset/MNIST\\raw\\train-images-idx3-ubyte.gz\n"
     ]
    },
    {
     "data": {
      "application/vnd.jupyter.widget-view+json": {
       "model_id": "f7803015bb524f13b47db0af10f22d9c",
       "version_major": 2,
       "version_minor": 0
      },
      "text/plain": [
       "  0%|          | 0/9912422 [00:00<?, ?it/s]"
      ]
     },
     "metadata": {},
     "output_type": "display_data"
    },
    {
     "name": "stdout",
     "output_type": "stream",
     "text": [
      "Extracting dataset/MNIST\\raw\\train-images-idx3-ubyte.gz to dataset/MNIST\\raw\n",
      "\n",
      "Downloading http://yann.lecun.com/exdb/mnist/train-labels-idx1-ubyte.gz\n",
      "Downloading http://yann.lecun.com/exdb/mnist/train-labels-idx1-ubyte.gz to dataset/MNIST\\raw\\train-labels-idx1-ubyte.gz\n"
     ]
    },
    {
     "data": {
      "application/vnd.jupyter.widget-view+json": {
       "model_id": "3527c5c83a734c1a87ad583100b3a33b",
       "version_major": 2,
       "version_minor": 0
      },
      "text/plain": [
       "  0%|          | 0/28881 [00:00<?, ?it/s]"
      ]
     },
     "metadata": {},
     "output_type": "display_data"
    },
    {
     "name": "stdout",
     "output_type": "stream",
     "text": [
      "Extracting dataset/MNIST\\raw\\train-labels-idx1-ubyte.gz to dataset/MNIST\\raw\n",
      "\n",
      "Downloading http://yann.lecun.com/exdb/mnist/t10k-images-idx3-ubyte.gz\n",
      "Downloading http://yann.lecun.com/exdb/mnist/t10k-images-idx3-ubyte.gz to dataset/MNIST\\raw\\t10k-images-idx3-ubyte.gz\n"
     ]
    },
    {
     "data": {
      "application/vnd.jupyter.widget-view+json": {
       "model_id": "574e563e368c4a0ebf26185a1b4c603f",
       "version_major": 2,
       "version_minor": 0
      },
      "text/plain": [
       "  0%|          | 0/1648877 [00:00<?, ?it/s]"
      ]
     },
     "metadata": {},
     "output_type": "display_data"
    },
    {
     "name": "stdout",
     "output_type": "stream",
     "text": [
      "Extracting dataset/MNIST\\raw\\t10k-images-idx3-ubyte.gz to dataset/MNIST\\raw\n",
      "\n",
      "Downloading http://yann.lecun.com/exdb/mnist/t10k-labels-idx1-ubyte.gz\n",
      "Downloading http://yann.lecun.com/exdb/mnist/t10k-labels-idx1-ubyte.gz to dataset/MNIST\\raw\\t10k-labels-idx1-ubyte.gz\n"
     ]
    },
    {
     "data": {
      "application/vnd.jupyter.widget-view+json": {
       "model_id": "4137233492e146b2aa9e4f19aa7f2e07",
       "version_major": 2,
       "version_minor": 0
      },
      "text/plain": [
       "  0%|          | 0/4542 [00:00<?, ?it/s]"
      ]
     },
     "metadata": {},
     "output_type": "display_data"
    },
    {
     "name": "stdout",
     "output_type": "stream",
     "text": [
      "Extracting dataset/MNIST\\raw\\t10k-labels-idx1-ubyte.gz to dataset/MNIST\\raw\n",
      "\n"
     ]
    },
    {
     "data": {
      "image/png": "[encoded data removed]",
      "text/plain": [
       "<Figure size 640x480 with 3 Axes>"
      ]
     },
     "metadata": {},
     "output_type": "display_data"
    },
    {
     "name": "stdout",
     "output_type": "stream",
     "text": [
      "The first 3 targets are: [8, 4, 2]\n",
      "\n",
      "Training:\n",
      "---------\n",
      "\n",
      "Epoch #0:\n"
     ]
    },
    {
     "name": "stderr",
     "output_type": "stream",
     "text": [
      "100%|██████████| 938/938 [00:18<00:00, 49.85it/s] \n"
     ]
    },
    {
     "name": "stdout",
     "output_type": "stream",
     "text": [
      "current loss: 0.42330404174035546\n",
      "\n",
      "Epoch #1:\n"
     ]
    },
    {
     "name": "stderr",
     "output_type": "stream",
     "text": [
      "100%|██████████| 938/938 [00:15<00:00, 61.52it/s] \n"
     ]
    },
    {
     "name": "stdout",
     "output_type": "stream",
     "text": [
      "current loss: 0.21868177319068643\n",
      "\n",
      "Epoch #2:\n"
     ]
    },
    {
     "name": "stderr",
     "output_type": "stream",
     "text": [
      "100%|██████████| 938/938 [00:14<00:00, 62.82it/s] \n"
     ]
    },
    {
     "name": "stdout",
     "output_type": "stream",
     "text": [
      "current loss: 0.16811581910736778\n",
      "\n",
      "Epoch #3:\n"
     ]
    },
    {
     "name": "stderr",
     "output_type": "stream",
     "text": [
      "100%|██████████| 938/938 [00:20<00:00, 45.09it/s]\n"
     ]
    },
    {
     "name": "stdout",
     "output_type": "stream",
     "text": [
      "current loss: 0.13618358987560278\n",
      "\n",
      "Epoch #4:\n"
     ]
    },
    {
     "name": "stderr",
     "output_type": "stream",
     "text": [
      "100%|██████████| 938/938 [00:19<00:00, 47.90it/s]\n"
     ]
    },
    {
     "name": "stdout",
     "output_type": "stream",
     "text": [
      "current loss: 0.11447537616729292\n",
      "\n",
      "Epoch #5:\n"
     ]
    },
    {
     "name": "stderr",
     "output_type": "stream",
     "text": [
      "100%|██████████| 938/938 [00:16<00:00, 58.16it/s]\n"
     ]
    },
    {
     "name": "stdout",
     "output_type": "stream",
     "text": [
      "current loss: 0.09861744115494493\n",
      "\n",
      "Epoch #6:\n"
     ]
    },
    {
     "name": "stderr",
     "output_type": "stream",
     "text": [
      "100%|██████████| 938/938 [00:10<00:00, 85.94it/s] \n"
     ]
    },
    {
     "name": "stdout",
     "output_type": "stream",
     "text": [
      "current loss: 0.08594617507219918\n",
      "\n",
      "Epoch #7:\n"
     ]
    },
    {
     "name": "stderr",
     "output_type": "stream",
     "text": [
      "100%|██████████| 938/938 [00:18<00:00, 50.64it/s]\n"
     ]
    },
    {
     "name": "stdout",
     "output_type": "stream",
     "text": [
      "current loss: 0.07700010205803713\n",
      "\n",
      "Epoch #8:\n"
     ]
    },
    {
     "name": "stderr",
     "output_type": "stream",
     "text": [
      "100%|██████████| 938/938 [00:11<00:00, 79.19it/s] \n"
     ]
    },
    {
     "name": "stdout",
     "output_type": "stream",
     "text": [
      "current loss: 0.06827585135888396\n",
      "\n",
      "Epoch #9:\n"
     ]
    },
    {
     "name": "stderr",
     "output_type": "stream",
     "text": [
      "100%|██████████| 938/938 [00:14<00:00, 63.44it/s] \n"
     ]
    },
    {
     "name": "stdout",
     "output_type": "stream",
     "text": [
      "current loss: 0.062176264842340685\n"
     ]
    },
    {
     "data": {
      "image/png": "[encoded data removed]",
      "text/plain": [
       "<Figure size 640x480 with 1 Axes>"
      ]
     },
     "metadata": {},
     "output_type": "display_data"
    },
    {
     "name": "stdout",
     "output_type": "stream",
     "text": [
      "Validation:\n",
      "-----------\n",
      "\n",
      "Validation on training set:\n"
     ]
    },
    {
     "name": "stderr",
     "output_type": "stream",
     "text": [
      "100%|██████████| 938/938 [00:08<00:00, 105.54it/s]\n"
     ]
    },
    {
     "name": "stdout",
     "output_type": "stream",
     "text": [
      "Accuracy on training set: 98.50\n",
      "\n",
      "Validation on testing set:\n"
     ]
    },
    {
     "name": "stderr",
     "output_type": "stream",
     "text": [
      "100%|██████████| 157/157 [00:02<00:00, 71.83it/s]\n"
     ]
    },
    {
     "name": "stdout",
     "output_type": "stream",
     "text": [
      "Accuracy on test set: 97.21\n",
      "\n",
      "Example inference:\n",
      "------------------\n"
     ]
    },
    {
     "data": {
      "image/png": "[encoded data removed]",
      "text/plain": [
       "<Figure size 640x480 with 1 Axes>"
      ]
     },
     "metadata": {},
     "output_type": "display_data"
    },
    {
     "name": "stdout",
     "output_type": "stream",
     "text": [
      "The predicted digit is 7\n"
     ]
    }
   ],
   "source": [
    "\"\"\"\n",
    "A simple walkthrough of how to code a fully connected neural network\n",
    "using the PyTorch library. For demonstration we train it on the very\n",
    "common MNIST dataset of handwritten digits. In this code we go through\n",
    "how to create the network as well as initialize a loss function, optimizer,\n",
    "check accuracy and more.\n",
    "Originally programmed by Aladdin Persson\n",
    "Modified for learning by Chris Basoglu\n",
    "\"\"\"\n",
    "\n",
    "# Here we create our simple neural network. For more details here we are subclassing and\n",
    "# inheriting from nn.Module, this is the most general way to create your networks and\n",
    "# allows for more flexibility. I encourage you to also check out nn.Sequential which\n",
    "# would be easier to use in this scenario but I wanted to show you something that\n",
    "# \"always\" works and is a general approach.\n",
    "#\n",
    "# Input is 784, first hidden layer is 50 with activation function of relu, and then output layer is 10.\n",
    "class NN(nn.Module):\n",
    "    def __init__(self, input_size, num_classes):\n",
    "        \"\"\"\n",
    "        Here we define the layers of the network. We create two fully connected layers\n",
    "        Parameters:\n",
    "            input_size: the size of the input, in this case 784 (28x28)\n",
    "            num_classes: the number of classes we want to predict, in this case 10 (0-9)\n",
    "        \"\"\"\n",
    "        # call the __init__() in the inherited base class.\n",
    "        super(NN, self).__init__()\n",
    "\n",
    "        # Our first linear layer take input_size, in this case 784 nodes to 50\n",
    "        # and our second linear layer takes 50 to the num_classes we have, in\n",
    "        # this case 10.\n",
    "\n",
    "        # Input layer.  784 nodes in to 50 nodes out. \n",
    "        self.input_layer = nn.Linear(input_size, 50)\n",
    "\n",
    "        # First and in this case only hidden layer.  Also serves as the output layer.  \n",
    "        # 50 nodes in, 10 nodes (one per class) out.         \n",
    "        self.hidden_layer_1 = nn.Linear(50, num_classes)\n",
    "\n",
    "    def forward(self, x):\n",
    "        \"\"\"\n",
    "        x here is the mnist images and we run it through input_layer, hidden_layer_1 that we created above.\n",
    "        we also add a ReLU activation function in between and for that (since it has no parameters)\n",
    "        I recommend using nn.functional (F)\n",
    "        Parameters:\n",
    "            x: mnist images\n",
    "        Returns:\n",
    "            out: the output of the network\n",
    "        \"\"\"\n",
    "\n",
    "        x = F.relu(self.input_layer(x))\n",
    "        x = self.hidden_layer_1(x)\n",
    "        return x\n",
    "\n",
    "# Check accuracy on training & test to see how good our model\n",
    "def train_model(myloader, mymodel, mydevice, mylearning_rate, mynum_epochs):\n",
    "    # Loss and optimizer\n",
    "    criterion = nn.CrossEntropyLoss()\n",
    "    optimizer = optim.Adam(mymodel.parameters(), lr=mylearning_rate)\n",
    "\n",
    "    # Train Network\n",
    "\n",
    "    # Put the model in training mode. If a neural network uses dropout or batch normalization, \n",
    "    # then you get different results when computing output values depending on whether the \n",
    "    # network is in train() or eval() mode.  We are training now, so switch to training mode.\n",
    "    mymodel.train()  \n",
    "\n",
    "    # Go over the dataset multiple times, each time is called an epoch.\n",
    "    myloss_vals_per_epoch = []\n",
    "    for epoch in range(mynum_epochs):\n",
    "        loss_vals_within_epoch = []\n",
    "        print(f\"\\nEpoch #{epoch}:\")\n",
    "\n",
    "        # loop over each batch within the dataset.\n",
    "        for batch_idx, (data, targets) in enumerate(tqdm(myloader)):\n",
    "            \n",
    "            # so batch_idx will iterate from 0 to 937 (there are 938 total batches), for each batch,\n",
    "            # data will have 64 images.  So data.shape would be [64, 1, 28, 28]  this means 64 images in the batch,\n",
    "            # each image is 1 channel (black and white), and of dimension 28x28. \n",
    "\n",
    "            # Get data to cuda if possible\n",
    "            data = data.to(device=mydevice)\n",
    "            targets = targets.to(device=mydevice)\n",
    "\n",
    "            # Get to correct shape within the batch.  We want to keep the fact that we have 64 images, so we keep the\n",
    "            # first dimension fo the shape, data.shape[0], but we want to linearized into a vector everything else about\n",
    "            # the image, so we can use -1 to tell pytorch to to that.  Alternatively, we could have explicitly set the shape \n",
    "            # to be 64 images, each image a single 784 element vector as data.reshape(data.shape[0], 784)\n",
    "            data = data.reshape(data.shape[0], -1)\n",
    "\n",
    "            # Forward pass. For each batch with 64 input images each reshaped into vector there are 10 outputs.  \n",
    "            # Each of the 10 outputs (0-9) represents the likelihood that the corresponding digit is what was \n",
    "            # in the input image.  So scores has 64 rows of 10.  scores.shape would be: torch.Size([64, 10])  \n",
    "            scores = mymodel(data)\n",
    "\n",
    "            # compare results of the forward pass (cores) with the labels (targets) and compute the loss\n",
    "            loss = criterion(scores, targets)\n",
    "        \n",
    "            # store each loss result for each batch.\n",
    "            loss_vals_within_epoch.append(loss.item())\n",
    "\n",
    "            # Backward pass with back prop (make sure to zero out the gradients first before computing them)\n",
    "            optimizer.zero_grad()\n",
    "            loss.backward()\n",
    "\n",
    "            # Gradient descent or adam step.  All the model parameters get updated here.\n",
    "            optimizer.step()\n",
    "\n",
    "        # The loss for the epoch is the average loss across all the batches in that epoch.\n",
    "        myloss_vals_per_epoch.append(sum(loss_vals_within_epoch)/len(loss_vals_within_epoch))\n",
    "        print(f\"current loss: {myloss_vals_per_epoch[len(myloss_vals_per_epoch)-1]}\")\n",
    "        \n",
    "    return myloss_vals_per_epoch\n",
    "\n",
    "\n",
    "# Check accuracy on training & test sets for validation to see how good our model\n",
    "def check_accuracy(myloader, mymodel, mydevice):\n",
    "    \"\"\"\n",
    "    Check accuracy of our trained model given a loader and a model\n",
    "    Parameters:\n",
    "        myloader: torch.utils.data.DataLoader\n",
    "            A loader for the dataset you want to check accuracy on\n",
    "        mymodel: nn.Module\n",
    "            The model you want to check accuracy on\n",
    "    Returns:\n",
    "        acc: float\n",
    "            The accuracy of the model on the dataset given by the loader\n",
    "    \"\"\"\n",
    "\n",
    "    num_correct = 0\n",
    "    num_samples = 0\n",
    "\n",
    "    # Put the model in evaluation mode. If a neural network uses dropout or batch normalization, \n",
    "    # then you get different results when computing output values depending on whether the \n",
    "    # network is in train() or eval() mode.  We are evaluating now, so switch to eval mode.\n",
    "    mymodel.eval()\n",
    "\n",
    "    # We don't need to keep track of gradients here so we wrap it in torch.no_grad()\n",
    "    with torch.no_grad():\n",
    "        # Loop through the data\n",
    "        for batch_idx, (data, targets) in enumerate(tqdm(myloader)):\n",
    "\n",
    "            # Move data to device\n",
    "            mydata = data.to(device=mydevice)\n",
    "            mytargets = targets.to(device=mydevice)\n",
    "\n",
    "            # Get to correct shape\n",
    "            mydata_reshaped = mydata.reshape(mydata.shape[0], -1)\n",
    "\n",
    "            # Forward pass. For each batch with 64 input images each reshaped into vector there are 10 outputs.  \n",
    "            # Each of the 10 outputs (0-9) represents the likelihood that the corresponding digit is what was \n",
    "            # in the input image.  So scores has 64 rows of 10.  scores.shape would be: torch.Size([64, 10])  \n",
    "            scores = mymodel(mydata_reshaped)\n",
    "\n",
    "            # Instead of [64,10] if there where 3 total input images, each with 4 outputs, then scores might look like:\n",
    "            #  a = torch.randn(3, 4)\n",
    "            #    tensor([[-0.0361,  0.2515, -1.7277, -0.5487],\n",
    "            #            [-0.9706,  1.8702, -0.9626,  0.1470],\n",
    "            #            [ 0.1992, -1.2784, -2.2646, -0.0661]])\n",
    "            # so the vertical dimension, per image direction is the first one (0). max(0) would give me the max \n",
    "            # of each column, not what I want.  To get the max of each class, the horizontal dimension, I want \n",
    "            # the second dimension (1) which is the max of each row. I also don't care about indices from where \n",
    "            # the maxes come, so I use _ to ignore the indices.           \n",
    "            max_class_value_per_image, index_where_max_class_value_was_found_per_image = scores.max(1)\n",
    "            \n",
    "            # the index into the 10 class is the value of the predicted digit.\n",
    "            predictions = index_where_max_class_value_was_found_per_image\n",
    "            \n",
    "            # Check how many we got correct\n",
    "            num_correct += (predictions == mytargets).sum()\n",
    "\n",
    "            # Keep track of number of samples. Count the number of samples in a batch (usually 64), \n",
    "            # this is the first dimension, and add for total.\n",
    "            num_samples += predictions.size(0)\n",
    "\n",
    "    # Reset model into training mode, which is the default state.\n",
    "    mymodel.train()\n",
    "\n",
    "    # Retrurn percentage correct.\n",
    "    return num_correct / num_samples\n",
    "\n",
    "# start main() here\n",
    "\n",
    "# Set device cuda for GPU if it's available otherwise run on the CPU\n",
    "devicestring = \"cuda\" if torch.cuda.is_available() else \"cpu\"\n",
    "device = torch.device(devicestring)\n",
    "print(f\"Device used to run is: {devicestring}\\n\")\n",
    "\n",
    "# Hyperparameters\n",
    "input_size = 784\n",
    "num_classes = 10\n",
    "learning_rate = 0.001\n",
    "the_batch_size = 64\n",
    "num_epochs = 10\n",
    "\n",
    "print(\"Data Loading:\")\n",
    "print(\"-------------\\n\")\n",
    "\n",
    "# Lets use MNIST data which is a dataset of 60,000 training images.  Each image is of 28x28 pixels and is of a handwritten digit. \n",
    "# Each corresponding \"target\" is a integer that corresponds to what digit is drawn in the image. Load inputs and targets now.\n",
    "train_dataset = datasets.MNIST(\n",
    "    root=\"dataset/\", train=True, transform=transforms.ToTensor(), download=True\n",
    ")\n",
    "\n",
    "\n",
    "# MNIST also has 10,000 testing images and targets. Load them now.\n",
    "test_dataset = datasets.MNIST(\n",
    "    root=\"dataset/\", train=False, transform=transforms.ToTensor(), download=True\n",
    ")\n",
    "\n",
    "# split up the 60,000 image dataset, into batches of 64 images each.  \n",
    "# There are 60,000 training images, and 60000/64=937.5, so we still get 938 total batches, \n",
    "# it is just that the last batch has only 32 images in it.  When using an iterator to \n",
    "# iterate over each bach, the shuffle=True part means before he data is split up into batches,\n",
    "# the data is shuffled randomly.  That means there is a shuffle right as each epoch begins.\n",
    "train_loader = DataLoader(dataset=train_dataset, batch_size=the_batch_size, shuffle=True)\n",
    "\n",
    "# split up the 10,000 image dataset, into batches of 64 images each.  \n",
    "# There are 10,000 testing images, and 10000/64=156.25, so we still get 157 total batches, \n",
    "# it is just that the last batch has only 16 images in it.  When using an iterator to \n",
    "# iterate over each bach, the shuffle=True part means before he data is split up into batches,\n",
    "# the data is shuffled randomly. That means there is a shuffle right as each epoch begins.\n",
    "test_loader = DataLoader(dataset=test_dataset, batch_size=the_batch_size, shuffle=True)\n",
    "\n",
    "# visualize the first 3 images in the training set, but note there is shuffle first, so it will\n",
    "# be a random first 3.\n",
    "checkdata = iter(train_loader)\n",
    "data, targets = next(checkdata)\n",
    "fig, ax = plt.subplots(1, 3)\n",
    "for i in range(3):\n",
    "    ax[i].imshow(data[i][0], cmap=\"gray\")\n",
    "plt.suptitle(\"The first 3 input images after a shuffle\", y=0.72)\n",
    "plt.show()\n",
    "\n",
    "# Show the first 3 targers (or lables as well)\n",
    "print(f\"The first 3 targets are: [{targets[0]}, {targets[1]}, {targets[2]}]\\n\")\n",
    "\n",
    "# Initialize network.  The input is vector of 784 elements.  Each image is 28x28, and 28*28=784, \n",
    "# so each input is a vector that represents an image. As defined in NN class above, input is 784, \n",
    "# first hidden layer is 50 with activation function of relu, and then output layer is 10.\n",
    "model = NN(input_size=input_size, num_classes=num_classes).to(device)\n",
    "\n",
    "print(\"Training:\")\n",
    "print(\"---------\")\n",
    "\n",
    "# Train the model, iterate over batches, minimize the loss, parameters in the model get updated.\n",
    "loss_vals_per_epoch = train_model(train_loader, model, device, learning_rate, num_epochs)\n",
    "\n",
    "plt.plot(loss_vals_per_epoch, c = 'coral')\n",
    "plt.title(\"Loss per epoch\")\n",
    "plt.grid(color = 'green', linestyle = '--', linewidth = 0.4)\n",
    "plt.show()\n",
    "\n",
    "print(\"Validation:\")\n",
    "print(\"-----------\\n\")\n",
    "\n",
    "# Check accuracy on training set to see how good our model is\n",
    "print(\"Validation on training set:\")\n",
    "accuracy_on_training_set = check_accuracy(train_loader, model, device)\n",
    "print(f\"Accuracy on training set: {accuracy_on_training_set*100:.2f}\\n\")\n",
    "\n",
    "# Check accuracy on test set to see how good our model is\n",
    "print(\"Validation on testing set:\")\n",
    "accuracy_on_test_set = check_accuracy(test_loader, model, device)\n",
    "print(f\"Accuracy on test set: {accuracy_on_test_set*100:.2f}\\n\")\n",
    "\n",
    "print(\"Example inference:\")\n",
    "print(\"------------------\")\n",
    "\n",
    "# Pick one image from the test set\n",
    "checkdata = iter(train_loader)\n",
    "data, targets = next(checkdata)\n",
    "mychosen_input = data[0]\n",
    "plt.imshow(mychosen_input[0], cmap=\"gray\")\n",
    "plt.title(\"One image picked from testing set\")\n",
    "plt.show()\n",
    "\n",
    "# Get to correct shape\n",
    "mychosen_input = mychosen_input.to(device=device)\n",
    "mychosen_input_reshaped = mychosen_input.reshape(mychosen_input.shape[0], -1)\n",
    "\n",
    "# Forward pass.  See check_accuracy comments for details.\n",
    "scores = model(mychosen_input_reshaped)\n",
    "value, index = scores.max(1)\n",
    "print(f\"The predicted digit is {index.item()}\")\n",
    "            "
   ]
  }
 ],
 "metadata": {
  "kernelspec": {
   "display_name": "Python 3 (ipykernel)",
   "language": "python",
   "name": "python3"
  },
  "language_info": {
   "codemirror_mode": {
    "name": "ipython",
    "version": 3
   },
   "file_extension": ".py",
   "mimetype": "text/x-python",
   "name": "python",
   "nbconvert_exporter": "python",
   "pygments_lexer": "ipython3",
   "version": "3.10.4"
  },
  "vscode": {
   "interpreter": {
    "hash": "e0d8714401c84b2f34c97cdbc2dc9b27c772eb6be171c58b92b0887b6275033e"
   }
  }
 },
 "nbformat": 4,
 "nbformat_minor": 5
}
